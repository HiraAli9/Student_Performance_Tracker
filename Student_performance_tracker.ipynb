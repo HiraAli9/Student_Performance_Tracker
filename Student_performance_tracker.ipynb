{
  "nbformat": 4,
  "nbformat_minor": 0,
  "metadata": {
    "colab": {
      "provenance": [],
      "authorship_tag": "ABX9TyN6OxgfWYlue1yR2dFIqSxg",
      "include_colab_link": true
    },
    "kernelspec": {
      "name": "python3",
      "display_name": "Python 3"
    },
    "language_info": {
      "name": "python"
    }
  },
  "cells": [
    {
      "cell_type": "markdown",
      "metadata": {
        "id": "view-in-github",
        "colab_type": "text"
      },
      "source": [
        "<a href=\"https://colab.research.google.com/github/HiraAli9/Student_Performance_Tracker/blob/main/Student_performance_tracker.ipynb\" target=\"_parent\"><img src=\"https://colab.research.google.com/assets/colab-badge.svg\" alt=\"Open In Colab\"/></a>"
      ]
    },
    {
      "cell_type": "code",
      "execution_count": null,
      "metadata": {
        "colab": {
          "base_uri": "https://localhost:8080/"
        },
        "id": "Gcz78EVeYCl6",
        "outputId": "5223bfbb-53db-4905-8cc1-8a8c47f562f9"
      },
      "outputs": [
        {
          "output_type": "stream",
          "name": "stdout",
          "text": [
            "\n",
            "Add a New Student (or type 'done' to finish):\n",
            "Enter student name: zoha\n",
            "Enter Math score: 88\n",
            "Enter Science score: 76\n",
            "Enter English score: 64\n",
            "Added zoha successfully!\n",
            "\n",
            "Add a New Student (or type 'done' to finish):\n",
            "Enter student name: Bisma\n",
            "Enter Math score: 75\n",
            "Enter Science score: 87\n",
            "Enter English score: 66\n",
            "Added Bisma successfully!\n",
            "\n",
            "Add a New Student (or type 'done' to finish):\n",
            "Enter student name: Elif\n",
            "Enter Math score: 88\n",
            "Enter Science score: 73\n",
            "Enter English score: 85\n",
            "Added Elif successfully!\n",
            "\n",
            "Add a New Student (or type 'done' to finish):\n",
            "Enter student name: done\n",
            "\n",
            "Student Performance Summary:\n",
            "----------------------------------------\n",
            "Name: zoha, Average: 76.00, Status: Passing\n",
            "Name: Bisma, Average: 76.00, Status: Passing\n",
            "Name: Elif, Average: 82.00, Status: Passing\n",
            "----------------------------------------\n",
            "\n",
            "Class Average Score: 78.00\n"
          ]
        }
      ],
      "source": [
        "class Student:\n",
        "    def __init__(self, name, scores):\n",
        "        self.name = name\n",
        "        self.scores = scores\n",
        "\n",
        "    def calculate_average(self):\n",
        "        return sum(self.scores) / len(self.scores)\n",
        "\n",
        "    def is_passing(self, passing_score=40):\n",
        "        return all(score >= passing_score for score in self.scores)\n",
        "\n",
        "\n",
        "# PerformanceTracker class to manage all students\n",
        "class PerformanceTracker:\n",
        "    def __init__(self):\n",
        "        self.students = {}  # Dictionary to store students by name\n",
        "\n",
        "    def add_student(self, name, scores):\n",
        "        self.students[name] = Student(name, scores)\n",
        "\n",
        "    def calculate_class_average(self):\n",
        "        if not self.students:\n",
        "            return 0  # Avoid division by zero\n",
        "        total_average = sum(student.calculate_average() for student in self.students.values())\n",
        "        return total_average / len(self.students)\n",
        "\n",
        "    def display_student_performance(self):\n",
        "        print(\"\\nStudent Performance Summary:\")\n",
        "        print(\"-\" * 40)\n",
        "        for student in self.students.values():\n",
        "            average = student.calculate_average()\n",
        "            status = \"Passing\" if student.is_passing() else \"Failing\"\n",
        "            print(f\"Name: {student.name}, Average: {average:.2f}, Status: {status}\")\n",
        "        print(\"-\" * 40)\n",
        "\n",
        "\n",
        "# Input handling and running the tracker\n",
        "def main():\n",
        "    tracker = PerformanceTracker()\n",
        "\n",
        "    while True:\n",
        "        print(\"\\nAdd a New Student (or type 'done' to finish):\")\n",
        "        name = input(\"Enter student name: \").strip()\n",
        "        if name.lower() == 'done':\n",
        "            break\n",
        "\n",
        "        try:\n",
        "            scores = []\n",
        "            for subject in ['Math', 'Science', 'English']:\n",
        "                score = int(input(f\"Enter {subject} score: \"))\n",
        "                if score < 0 or score > 100:  # Validation for realistic scores\n",
        "                    raise ValueError(\"Scores must be between 0 and 100.\")\n",
        "                scores.append(score)\n",
        "            tracker.add_student(name, scores)\n",
        "            print(f\"Added {name} successfully!\")\n",
        "        except ValueError as e:\n",
        "            print(f\"Invalid input: {e}. Please try again.\")\n",
        "\n",
        "    if tracker.students:\n",
        "        tracker.display_student_performance()\n",
        "        class_avg = tracker.calculate_class_average()\n",
        "        print(f\"\\nClass Average Score: {class_avg:.2f}\")\n",
        "    else:\n",
        "        print(\"\\nNo students were added to the tracker.\")\n",
        "\n",
        "\n",
        "if __name__ == \"__main__\":\n",
        "    main()"
      ]
    }
  ]
}